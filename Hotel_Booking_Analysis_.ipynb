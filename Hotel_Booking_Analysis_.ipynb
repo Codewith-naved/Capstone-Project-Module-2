{
  "nbformat": 4,
  "nbformat_minor": 0,
  "metadata": {
    "colab": {
      "private_outputs": true,
      "provenance": [],
      "collapsed_sections": [
        "vncDsAP0Gaoa",
        "FJNUwmbgGyua",
        "yQaldy8SH6Dl",
        "mDgbUHAGgjLW",
        "HhfV-JJviCcP",
        "O_i_v8NEhb9l",
        "Y3lxredqlCYt",
        "3RnN4peoiCZX",
        "x71ZqKXriCWQ",
        "7hBIi_osiCS2",
        "JlHwYmJAmNHm",
        "nA9Y7ga8ng1Z",
        "dauF4eBmngu3",
        "bKJF3rekwFvQ",
        "MSa1f5Uengrz",
        "LvhRM3fFb90V",
        "4Ckj6F0kbLtn",
        "GF8Ens_Soomf",
        "0wOQAZs5pc--",
        "KSlN3yHqYklG",
        "4Of9eVA-YrdM",
        "bamQiAODYuh1",
        "OH-pJp9IphqM",
        "PIIx-8_IphqN",
        "t27r6nlMphqO",
        "r2jJGEOYphqO",
        "b0JNsNcRphqO",
        "aX4M9XOkEDSX",
        "8w631X8MEf9w",
        "YJ55k-q6phqO",
        "U2RJ9gkRphqQ",
        "x-EpHcCOp1ci",
        "n3dbpmDWp1ck",
        "EM7whBJCYoAo",
        "fge-S5ZAYoAp",
        "85gYPyotYoAp",
        "RoGjAbkUYoAp",
        "NC_X3p0fY2L0",
        "EXh0U9oCveiU",
        "22aHeOlLveiV",
        "JcMwzZxoAimU",
        "8G2x9gOozGDZ",
        "gCX9965dhzqZ",
        "gIfDvo9L0UH2"
      ],
      "include_colab_link": true
    },
    "kernelspec": {
      "name": "python3",
      "display_name": "Python 3"
    },
    "language_info": {
      "name": "python"
    }
  },
  "cells": [
    {
      "cell_type": "markdown",
      "metadata": {
        "id": "view-in-github",
        "colab_type": "text"
      },
      "source": [
        "<a href=\"https://colab.research.google.com/github/Codewith-naved/Capstone-Project-Module-2/blob/main/Hotel_Booking_Analysis_.ipynb\" target=\"_parent\"><img src=\"https://colab.research.google.com/assets/colab-badge.svg\" alt=\"Open In Colab\"/></a>"
      ]
    },
    {
      "cell_type": "markdown",
      "source": [
        "# **Project Name**    - **Hotel Booking Analysis**\n",
        "\n",
        "\n"
      ],
      "metadata": {
        "id": "vncDsAP0Gaoa"
      }
    },
    {
      "cell_type": "markdown",
      "source": [
        "##### **Project Type**    - EDA\n",
        "##### **Contribution**    - Individual\n",
        "##### **Submitted By**    - Naaved Shaikh\n",
        "`"
      ],
      "metadata": {
        "id": "beRrZCGUAJYm"
      }
    },
    {
      "cell_type": "markdown",
      "source": [
        "# **Project Summary -**"
      ],
      "metadata": {
        "id": "FJNUwmbgGyua"
      }
    },
    {
      "cell_type": "markdown",
      "source": [
        "In the dynamic landscape of the hospitality industry, data-driven decision-making is essential for optimizing operations and enhancing customer experiences. This project focuses on the exploratory data analysis (EDA) of a hotel booking dataset from Booking.com, capturing a wide range of information about bookings, customer profiles, and various booking channels. The dataset includes details such as booking lead times, arrival dates, meal plans, room types, and customer preferences.\n",
        "\n",
        "The primary goal is to identify patterns and trends in booking behaviors, cancellations, and customer preferences to help Booking.com refine its operations. Given the competition in the hospitality sector, companies like Booking.com must continuously improve their booking processes and maximize revenue. By leveraging insights gained from this analysis, the company can streamline operations and tailor marketing efforts.\n",
        "\n",
        "The project begins with a thorough examination of the dataset to clean and preprocess the data, addressing missing values and ensuring data consistency. This step is critical for ensuring the accuracy of subsequent analyses. Descriptive statistics are employed to explore customer demographics and booking patterns, revealing essential information about factors such as age, booking lead time, and hotel types preferred by different segments.\n",
        "\n",
        "Key visualizations illustrate important findings, including booking percentages by hotel type, cancellation analysis, and insights into repeating guests. These visualizations help identify how various factors impact booking behavior, enabling targeted interventions to reduce cancellations. The project also investigates market segments that contribute most to bookings, highlighting trends that inform marketing strategies. Monthly booking distribution analysis identifies peak booking periods, assisting Booking.com in optimizing pricing and promotions.\n",
        "\n",
        "Insights into the top countries by bookings and average lead time can help tailor offerings to meet diverse customer needs. Another critical aspect involves examining the average daily rate (ADR) across different hotel types and meal preferences. Understanding relationships between room types, meal plans, and pricing strategies can guide operational decisions, such as inventory management and dynamic pricing adjustments. The correlation heatmap helps identify relationships between various factors, offering insights into how different variables interact and influence operations.\n",
        "\n",
        "The final deliverables include a comprehensive report detailing findings, supported by clear visualizations that illustrate key insights. Recommendations based on the analysis will focus on strategies for reducing cancellations, enhancing customer loyalty, and improving service delivery. The project aims to equip Booking.com with the necessary tools and insights to adapt to changing market conditions and anticipate guest needs.\n",
        "\n",
        "In conclusion, this project contributes to understanding customer booking behaviors in the hospitality industry and provides Booking.com with a roadmap for making informed, data-driven decisions. By leveraging the insights gained from this analysis, the company can enhance its competitive advantage, drive profitability, and continue delivering exceptional service to its guests. ​"
      ],
      "metadata": {
        "id": "F6v_1wHtG2nS"
      }
    },
    {
      "cell_type": "markdown",
      "source": [
        "# **Problem Statement**\n"
      ],
      "metadata": {
        "id": "yQaldy8SH6Dl"
      }
    },
    {
      "cell_type": "markdown",
      "source": [
        "In the highly competitive hospitality industry, optimizing hotel operations is essential for enhancing customer satisfaction and maximizing revenue. Booking.com, a leading player in this market, faces challenges related to booking efficiency, cancellation rates, and understanding customer preferences. The availability of a rich dataset, encompassing details such as booking lead times, guest demographics, reservation types, and special requests, presents an opportunity to analyze booking behaviors and identify key trends. By leveraging this data, the project aims to uncover actionable insights that can inform strategic decision-making, allowing Booking.com to improve its marketing efforts, tailor its offerings, and streamline operational processes. This analysis seeks to provide a deeper understanding of factors influencing customer decisions, thereby enabling the company to better meet market demands and enhance overall guest experiences."
      ],
      "metadata": {
        "id": "DpeJGUA3kjGy"
      }
    },
    {
      "cell_type": "markdown",
      "source": [
        "#### **Define Your Business Objective?**"
      ],
      "metadata": {
        "id": "PH-0ReGfmX4f"
      }
    },
    {
      "cell_type": "markdown",
      "source": [
        "The primary objective of this project is to analyze the hotel booking dataset from Booking.com to derive insights that enhance hotel operations and customer experiences. By examining key metrics such as booking patterns, cancellation rates, and guest preferences, the analysis aims to identify strategies for reducing cancellations, optimizing marketing efforts, and improving operational efficiency. Ultimately, this project seeks to provide Booking.com with actionable recommendations to increase profitability and foster customer loyalty in the competitive hospitality market."
      ],
      "metadata": {
        "id": "PhDvGCAqmjP1"
      }
    },
    {
      "cell_type": "markdown",
      "source": [
        "# **General Guidelines** : -  "
      ],
      "metadata": {
        "id": "mDgbUHAGgjLW"
      }
    },
    {
      "cell_type": "markdown",
      "source": [
        "`1.   Well-structured, formatted, and commented code is required.\n",
        "2.   Exception Handling, Production Grade Code & Deployment Ready Code will be a plus. Those students will be awarded some additional credits.\n",
        "     \n",
        "     The additional credits will have advantages over other students during Star Student selection.\n",
        "       \n",
        "             [ Note: - Deployment Ready Code is defined as, the whole .ipynb notebook should be executable in one go\n",
        "                       without a single error logged. ]\n",
        "\n",
        "3.   Each and every logic should have proper comments.\n",
        "4. You may add as many number of charts you want. Make Sure for each and every chart the following format should be answered.\n",
        "        \n",
        "\n",
        "```\n",
        "# Chart visualization code\n",
        "```\n",
        "            \n",
        "\n",
        "*   Why did you pick the specific chart?\n",
        "*   What is/are the insight(s) found from the chart?\n",
        "* Will the gained insights help creating a positive business impact?\n",
        "Are there any insights that lead to negative growth? Justify with specific reason.\n",
        "\n",
        "5. You have to create at least 20 logical & meaningful charts having important insights.\n",
        "\n",
        "\n",
        "[ Hints : - Do the Vizualization in  a structured way while following \"UBM\" Rule.\n",
        "\n",
        "U - Univariate Analysis,\n",
        "\n",
        "B - Bivariate Analysis (Numerical - Categorical, Numerical - Numerical, Categorical - Categorical)\n",
        "\n",
        "M - Multivariate Analysis\n",
        " ]\n",
        "\n",
        "\n",
        "\n"
      ],
      "metadata": {
        "id": "ZrxVaUj-hHfC"
      }
    },
    {
      "cell_type": "markdown",
      "source": [
        "## ***1. Know Your Data***"
      ],
      "metadata": {
        "id": "HhfV-JJviCcP"
      }
    },
    {
      "cell_type": "markdown",
      "source": [
        "# ***Let's Begin !***"
      ],
      "metadata": {
        "id": "O_i_v8NEhb9l"
      }
    },
    {
      "cell_type": "markdown",
      "source": [
        "### Import Libraries"
      ],
      "metadata": {
        "id": "Y3lxredqlCYt"
      }
    },
    {
      "cell_type": "code",
      "source": [
        "# Import Libraries\n",
        "import pandas as pd\n",
        "import numpy as np\n",
        "import seaborn as sns\n",
        "import matplotlib.pyplot as plt"
      ],
      "metadata": {
        "id": "M8Vqi-pPk-HR"
      },
      "execution_count": null,
      "outputs": []
    },
    {
      "cell_type": "markdown",
      "source": [
        "### Dataset Loading"
      ],
      "metadata": {
        "id": "3RnN4peoiCZX"
      }
    },
    {
      "cell_type": "code",
      "source": [
        "from google.colab import drive\n",
        "drive.mount('/content/drive')"
      ],
      "metadata": {
        "id": "K8IJQdHZCYSQ"
      },
      "execution_count": null,
      "outputs": []
    },
    {
      "cell_type": "code",
      "source": [
        "# Load Dataset\n",
        "path = '/content/drive/MyDrive/Capstone Project - Naved/Hotel Bookings.csv'\n",
        "hotel_df = pd.read_csv(path)"
      ],
      "metadata": {
        "id": "4CkvbW_SlZ_R"
      },
      "execution_count": null,
      "outputs": []
    },
    {
      "cell_type": "code",
      "source": [
        "df = pd.DataFrame(hotel_df)"
      ],
      "metadata": {
        "id": "10fkJeFg-oLl"
      },
      "execution_count": null,
      "outputs": []
    },
    {
      "cell_type": "markdown",
      "source": [
        "### Dataset First View"
      ],
      "metadata": {
        "id": "x71ZqKXriCWQ"
      }
    },
    {
      "cell_type": "code",
      "source": [
        "# Dataset First Look\n",
        "df.head()"
      ],
      "metadata": {
        "id": "LWNFOSvLl09H",
        "collapsed": true
      },
      "execution_count": null,
      "outputs": []
    },
    {
      "cell_type": "code",
      "source": [
        "df.tail()"
      ],
      "metadata": {
        "id": "P2t5bRtFDZh3",
        "collapsed": true
      },
      "execution_count": null,
      "outputs": []
    },
    {
      "cell_type": "markdown",
      "source": [
        "### Dataset Rows & Columns count"
      ],
      "metadata": {
        "id": "7hBIi_osiCS2"
      }
    },
    {
      "cell_type": "code",
      "source": [
        "# Dataset Rows & Columns count\n",
        "df.shape"
      ],
      "metadata": {
        "id": "Kllu7SJgmLij"
      },
      "execution_count": null,
      "outputs": []
    },
    {
      "cell_type": "markdown",
      "source": [
        "### Dataset Information"
      ],
      "metadata": {
        "id": "JlHwYmJAmNHm"
      }
    },
    {
      "cell_type": "code",
      "source": [
        "df.info()"
      ],
      "metadata": {
        "id": "s6FRfxFMDrfX",
        "collapsed": true
      },
      "execution_count": null,
      "outputs": []
    },
    {
      "cell_type": "code",
      "source": [
        "# Dataset Info\n",
        "df.describe()"
      ],
      "metadata": {
        "id": "e9hRXRi6meOf",
        "collapsed": true
      },
      "execution_count": null,
      "outputs": []
    },
    {
      "cell_type": "markdown",
      "source": [
        "#### Duplicate Values"
      ],
      "metadata": {
        "id": "35m5QtbWiB9F"
      }
    },
    {
      "cell_type": "code",
      "source": [
        "# Dataset Duplicate Value Count\n",
        "df.duplicated().sum()"
      ],
      "metadata": {
        "id": "1sLdpKYkmox0"
      },
      "execution_count": null,
      "outputs": []
    },
    {
      "cell_type": "code",
      "source": [
        "df.drop_duplicates(inplace = True)"
      ],
      "metadata": {
        "id": "KuXNiOXXVpYH"
      },
      "execution_count": null,
      "outputs": []
    },
    {
      "cell_type": "code",
      "source": [
        "df.duplicated().sum()"
      ],
      "metadata": {
        "id": "kvNYxLfyVsSj"
      },
      "execution_count": null,
      "outputs": []
    },
    {
      "cell_type": "code",
      "source": [
        "df.shape"
      ],
      "metadata": {
        "id": "-dwTZUi5Vt0D"
      },
      "execution_count": null,
      "outputs": []
    },
    {
      "cell_type": "markdown",
      "source": [
        "#### Missing Values/Null Values"
      ],
      "metadata": {
        "id": "PoPl-ycgm1ru"
      }
    },
    {
      "cell_type": "code",
      "source": [
        "# Missing Values/Null Values Count\n",
        "df.isnull().sum().sort_values(ascending = False)"
      ],
      "metadata": {
        "id": "GgHWkxvamxVg",
        "collapsed": true
      },
      "execution_count": null,
      "outputs": []
    },
    {
      "cell_type": "code",
      "source": [
        "# Visualizing the missing values\n",
        "# Checking Null Value by plotting Heatmap\n",
        "sns.heatmap(df.isnull(), cbar=False)"
      ],
      "metadata": {
        "id": "3q5wnI3om9sJ",
        "collapsed": true
      },
      "execution_count": null,
      "outputs": []
    },
    {
      "cell_type": "markdown",
      "source": [
        "### What did you know about your dataset?"
      ],
      "metadata": {
        "id": "H0kj-8xxnORC"
      }
    },
    {
      "cell_type": "markdown",
      "source": [
        "In this dataset we had 119390 rows &  32 columns, with 31994 duplicated values. With some missing and null values in columns such as children, agent , country & company.Company had almost 94% missing / null values."
      ],
      "metadata": {
        "id": "gfoNAAC-nUe_"
      }
    },
    {
      "cell_type": "markdown",
      "source": [
        "## ***2. Understanding Your Variables***"
      ],
      "metadata": {
        "id": "nA9Y7ga8ng1Z"
      }
    },
    {
      "cell_type": "markdown",
      "source": [
        "* Hotel - Hotel or resort\n",
        "* Is_canceled - If booking was cancelled - 0, If not - 1\n",
        "* Lead_time - No of days from between booking date and arrival date\n",
        "* Arrival_date_year - year of arrival date\n",
        "* arrival_date_month - month of arrival date\n",
        "* arrival_date_week_number - week number for arrival date\n",
        "* arrival_dat_day - Day of arrival date\n",
        "* Satys_in_Weekend_nights - Number of weekend\n",
        "* stays_in_week_nights - number of week nights\n",
        "* adults - number of adults\n",
        "* children - number of children\n",
        "* babies - number of babies\n",
        "* meal - kind of meal opted for\n",
        "* country - country code\n",
        "* market_segment - which segment the customer belongs to\n",
        "* Distrubution_channel - method of booking\n",
        "* is_repeated_guest - first visit or not\n",
        "* previous_cancellation - any cancellation record before\n",
        "* previous_booking - count of previous booking\n",
        "* reserved_room_type - type of room reserved\n",
        "* assigned_room_type - type of room assigned\n",
        "* booking_changes - count of changes made to booking\n",
        "* deposit_type - deposit type\n",
        "* agent - booking through agent\n",
        "* days_in_waiting_list - number of days in waiting list\n",
        "* customer_type - type of customer\n",
        "* requierd_car_parking - if parking required\n",
        "* total_of_special_req  - number of special requirements/\n",
        "* reservation_Status - reservation of status\n",
        "* reservation_Status_date - Date of specific status\n"
      ],
      "metadata": {
        "id": "aJV4KIxSnxay"
      }
    },
    {
      "cell_type": "code",
      "source": [
        "# Dataset Columns\n",
        "df.columns"
      ],
      "metadata": {
        "id": "j7xfkqrt5Ag5",
        "collapsed": true
      },
      "execution_count": null,
      "outputs": []
    },
    {
      "cell_type": "code",
      "source": [
        "# Dataset Describe\n",
        "df.describe()"
      ],
      "metadata": {
        "id": "DnOaZdaE5Q5t"
      },
      "execution_count": null,
      "outputs": []
    },
    {
      "cell_type": "markdown",
      "source": [
        "### Variables Description"
      ],
      "metadata": {
        "id": "PBTbrJXOngz2"
      }
    },
    {
      "cell_type": "markdown",
      "source": [
        "### Check Unique Values for each variable."
      ],
      "metadata": {
        "id": "u3PMJOP6ngxN"
      }
    },
    {
      "cell_type": "code",
      "source": [
        "# Check Unique Values for each variable.\n",
        "for i in df.columns.tolist():\n",
        "  print(\"No. of unique values in \",i,\"is\",df[i].nunique(),\".\")"
      ],
      "metadata": {
        "id": "zms12Yq5n-jE",
        "collapsed": true
      },
      "execution_count": null,
      "outputs": []
    },
    {
      "cell_type": "markdown",
      "source": [
        "## 3. ***Data Wrangling***"
      ],
      "metadata": {
        "id": "dauF4eBmngu3"
      }
    },
    {
      "cell_type": "markdown",
      "source": [
        "### Data Cleaning\n"
      ],
      "metadata": {
        "id": "bKJF3rekwFvQ"
      }
    },
    {
      "cell_type": "code",
      "source": [
        "## Treating the null values\n",
        "df['children'].fillna(0, inplace=True)  # Filling NaN in 'children' with 0\n",
        "df['country'].fillna('others', inplace=True)  # Filling NaN in 'country' with 'others'\n",
        "df['agent'].fillna(0, inplace=True)  # Filling NaN in 'agent' with 0\n"
      ],
      "metadata": {
        "collapsed": true,
        "id": "OaCTH1Ts-Akm"
      },
      "execution_count": null,
      "outputs": []
    },
    {
      "cell_type": "code",
      "source": [
        "## Dropping the entire column as it approx 94% missing values\n",
        "df.drop('company', axis=1, inplace=True)"
      ],
      "metadata": {
        "id": "5ibwSYYECI0X",
        "collapsed": true
      },
      "execution_count": null,
      "outputs": []
    },
    {
      "cell_type": "code",
      "source": [
        "# checking non null values\n",
        "df.info()"
      ],
      "metadata": {
        "collapsed": true,
        "id": "4lXuIdzp-yZV"
      },
      "execution_count": null,
      "outputs": []
    },
    {
      "cell_type": "code",
      "source": [
        "# checking non null values\n",
        "df.isnull().sum()"
      ],
      "metadata": {
        "collapsed": true,
        "id": "2kbp-V8BCMvN"
      },
      "execution_count": null,
      "outputs": []
    },
    {
      "cell_type": "code",
      "source": [
        "# Write your code to make your dataset analysis ready.\n",
        "\n",
        "df.info()"
      ],
      "metadata": {
        "id": "wk-9a2fpoLcV",
        "collapsed": true
      },
      "execution_count": null,
      "outputs": []
    },
    {
      "cell_type": "markdown",
      "source": [
        "Changinng data type of variable Children, agent from float to int64"
      ],
      "metadata": {
        "id": "NNXz3B1gaW_s"
      }
    },
    {
      "cell_type": "code",
      "source": [
        "df[['children', 'agent']] = df[['children', 'agent']].astype('int64')\n"
      ],
      "metadata": {
        "id": "-VWOnWYEY_pR"
      },
      "execution_count": null,
      "outputs": []
    },
    {
      "cell_type": "code",
      "source": [
        "df.info()"
      ],
      "metadata": {
        "collapsed": true,
        "id": "aI432xYSa8MB"
      },
      "execution_count": null,
      "outputs": []
    },
    {
      "cell_type": "markdown",
      "source": [
        "### Adding Columns"
      ],
      "metadata": {
        "id": "MSa1f5Uengrz"
      }
    },
    {
      "cell_type": "code",
      "source": [
        "## Total night a customer stayed\n",
        "df['total_stay_nights'] = df['stays_in_week_nights'] + df['stays_in_weekend_nights']"
      ],
      "metadata": {
        "id": "TOTv1kCkbKYt"
      },
      "execution_count": null,
      "outputs": []
    },
    {
      "cell_type": "code",
      "source": [
        "## total no of members including children and babies\n",
        "df['total_members'] = df['adults'] + df['children'] + df['babies']"
      ],
      "metadata": {
        "id": "Z-xvd4X2baDg"
      },
      "execution_count": null,
      "outputs": []
    },
    {
      "cell_type": "code",
      "source": [
        "## Total revenue\n",
        "df['total_revenue'] = df['adr'] * df['total_stay_nights']"
      ],
      "metadata": {
        "id": "8t2s2ViTb4sI"
      },
      "execution_count": null,
      "outputs": []
    },
    {
      "cell_type": "markdown",
      "source": [
        "### Modifying columns"
      ],
      "metadata": {
        "id": "LvhRM3fFb90V"
      }
    },
    {
      "cell_type": "code",
      "source": [
        "#modifying is_canceled column\n",
        "df['is_canceled'] = df['is_canceled'].replace({1: 'Canceled', 0: 'Not Canceled'})\n",
        "df['is_canceled']"
      ],
      "metadata": {
        "collapsed": true,
        "id": "VQQr0vXNeNQI"
      },
      "execution_count": null,
      "outputs": []
    },
    {
      "cell_type": "code",
      "source": [
        "#modifying is_repeated_guest column\n",
        "df['is_repeated_guest'] = df['is_repeated_guest'].replace({1:'repeated', 0:'Not repeated'})\n",
        "df['is_repeated_guest']"
      ],
      "metadata": {
        "collapsed": true,
        "id": "e_B_ssbBcsxl"
      },
      "execution_count": null,
      "outputs": []
    },
    {
      "cell_type": "code",
      "source": [
        "hotel_wise_total_revenue = df.groupby('hotel')['total_revenue'].sum().reset_index()\n",
        "hotel_wise_total_revenue"
      ],
      "metadata": {
        "id": "_MDD6b-dfl79",
        "collapsed": true
      },
      "execution_count": null,
      "outputs": []
    },
    {
      "cell_type": "markdown",
      "source": [
        "### What all manipulations have you done and insights you found?\n",
        "\n"
      ],
      "metadata": {
        "id": "4Ckj6F0kbLtn"
      }
    },
    {
      "cell_type": "markdown",
      "source": [
        "**Data Cleaning**\n",
        "* In **children** column filling null values Filling NaN in 'children' with 0\n",
        "* In **country** column filling null values Filling NaN in 'country' with 'others'\n",
        "* In **agent** column filling null values Filling NaN in 'agent' with 0\n",
        "* Dropping the entire **Company** column as it approx 94% missing values\n",
        "\n",
        "**Adding Columns**\n",
        "* total_stay_nights = Total nights the customer stayed.\n",
        "* total_members = Total number of members including children and babies.\n",
        "* total_revenue = Total revenue generated.\n",
        "\n",
        "**Modifying Columns**\n",
        "* In is_canceled replacing [ 1: 'Canceled', 0: 'Not Canceled' ]\n",
        "* In is_repeated_guest replacing [ 1:'repeated', 0:'Not repeated ]"
      ],
      "metadata": {
        "id": "AGb--HDibLtn"
      }
    },
    {
      "cell_type": "markdown",
      "source": [
        "## ***4. Data Vizualization, Storytelling & Experimenting with charts : Understand the relationships between variables***"
      ],
      "metadata": {
        "id": "GF8Ens_Soomf"
      }
    },
    {
      "cell_type": "markdown",
      "source": [
        "#### ***Booking Percentage by hotel type***"
      ],
      "metadata": {
        "id": "0wOQAZs5pc--"
      }
    },
    {
      "cell_type": "code",
      "source": [
        "# Chart - 1 visualization\n",
        "x = sum(df['hotel'] == 'Resort Hotel')\n",
        "y = sum(df['hotel'] == 'City Hotel')\n",
        "labels = ['Resort Hotel', 'City Hotel']\n",
        "sizes = [x,y]\n",
        "plt.pie(sizes, labels=labels, autopct='%1.1f%%')\n",
        "plt.title(\"Booking Percentage by Hotel type\")\n",
        "plt.show()"
      ],
      "metadata": {
        "id": "7v_ESjsspbW7"
      },
      "execution_count": null,
      "outputs": []
    },
    {
      "cell_type": "markdown",
      "source": [
        "##### 1. Why did you pick the specific chart?"
      ],
      "metadata": {
        "id": "K5QZ13OEpz2H"
      }
    },
    {
      "cell_type": "markdown",
      "source": [
        "Piechart are easy to understand and analyse when comparing small number of variables. Here we can clearly figure out the ratio percentage of booking between resort hoetel and city hotel"
      ],
      "metadata": {
        "id": "XESiWehPqBRc"
      }
    },
    {
      "cell_type": "markdown",
      "source": [
        "##### 2. What is/are the insight(s) found from the chart?"
      ],
      "metadata": {
        "id": "lQ7QKXXCp7Bj"
      }
    },
    {
      "cell_type": "markdown",
      "source": [
        "Here, we found that the booking number is Higher in City Hotel which is 61.12% than Resort Hotel which is 38.87%. Hence we can say that City hotel has more consumption"
      ],
      "metadata": {
        "id": "C_j1G7yiqdRP"
      }
    },
    {
      "cell_type": "markdown",
      "source": [
        "##### 3. Will the gained insights help creating a positive business impact?\n",
        "Are there any insights that lead to negative growth? Justify with specific reason."
      ],
      "metadata": {
        "id": "448CDAPjqfQr"
      }
    },
    {
      "cell_type": "markdown",
      "source": [
        "**Resort Hotel** - Here we can see that the bookings are approx 38% which is quite less hence some extra services or marketing strategies should be added in order to get more bookings\n",
        "\n",
        "**City HOtel** - Here we can see it has approx 61% bookin which is quite impressive but still have to maintain the majority and target to get upto 80% or even more"
      ],
      "metadata": {
        "id": "3cspy4FjqxJW"
      }
    },
    {
      "cell_type": "markdown",
      "source": [
        "#### ***Cancelation Anlaysis***"
      ],
      "metadata": {
        "id": "KSlN3yHqYklG"
      }
    },
    {
      "cell_type": "code",
      "source": [
        "# Chart - 2 visualization code\n",
        "x = sum(df['is_canceled'] == 'Canceled')\n",
        "y = sum(df['is_canceled'] == 'Not Canceled')\n",
        "labels = ['Canceled', 'Not Canceled']\n",
        "sizes = [x,y]\n",
        "plt.pie(sizes, labels=labels, autopct='%1.1f%%')\n",
        "plt.title(\"Cancelation volume\")\n",
        "plt.show()"
      ],
      "metadata": {
        "id": "R4YgtaqtYklH"
      },
      "execution_count": null,
      "outputs": []
    },
    {
      "cell_type": "markdown",
      "source": [
        "##### 1. Why did you pick the specific chart?"
      ],
      "metadata": {
        "id": "t6dVpIINYklI"
      }
    },
    {
      "cell_type": "markdown",
      "source": [
        "As we are seeing the relation between only two variables this chart is the best fit for comparing and analysing the percentage of cancellation and no canceled bookings"
      ],
      "metadata": {
        "id": "5aaW0BYyYklI"
      }
    },
    {
      "cell_type": "markdown",
      "source": [
        "##### 2. What is/are the insight(s) found from the chart?"
      ],
      "metadata": {
        "id": "ijmpgYnKYklI"
      }
    },
    {
      "cell_type": "markdown",
      "source": [
        "We can clearly see the not canceled percentage is greater which is approx 73% while the canceled percentage is upto 27%"
      ],
      "metadata": {
        "id": "PSx9atu2YklI"
      }
    },
    {
      "cell_type": "markdown",
      "source": [
        "##### 3. Will the gained insights help creating a positive business impact?\n",
        "Are there any insights that lead to negative growth? Justify with specific reason."
      ],
      "metadata": {
        "id": "-JiQyfWJYklI"
      }
    },
    {
      "cell_type": "markdown",
      "source": [
        "As canceled percentage is upto 27% soo may have to dig in the rootcause of the cancelation by the customer and then resolve the issue by bringing down the cancelation percentage and increasing the non canceled percentage."
      ],
      "metadata": {
        "id": "BcBbebzrYklV"
      }
    },
    {
      "cell_type": "markdown",
      "source": [
        "#### ***Guest Repeating***"
      ],
      "metadata": {
        "id": "4Of9eVA-YrdM"
      }
    },
    {
      "cell_type": "code",
      "source": [
        "# Chart - 4 visualization code\n",
        "x = sum(df['is_repeated_guest'] == 'repeated')\n",
        "y = sum(df['is_repeated_guest'] == 'Not repeated')\n",
        "labels = ['repeated', 'Not repeated']\n",
        "sizes = [x,y]\n",
        "plt.pie(sizes, labels=labels, autopct='%1.1f%%')\n",
        "plt.title(\"Guest Repeating\")\n",
        "plt.show()"
      ],
      "metadata": {
        "id": "irlUoxc8YrdO"
      },
      "execution_count": null,
      "outputs": []
    },
    {
      "cell_type": "markdown",
      "source": [
        "##### 1. Why did you pick the specific chart?"
      ],
      "metadata": {
        "id": "iky9q4vBYrdO"
      }
    },
    {
      "cell_type": "markdown",
      "source": [
        "Pie chart is easy to interpret and analyse the distribtuion of the repeated and not repeated customers"
      ],
      "metadata": {
        "id": "aJRCwT6DYrdO"
      }
    },
    {
      "cell_type": "markdown",
      "source": [
        "##### 2. What is/are the insight(s) found from the chart?"
      ],
      "metadata": {
        "id": "F6T5p64dYrdO"
      }
    },
    {
      "cell_type": "markdown",
      "source": [
        "We can clearly see the insights as the repeated customers are down to only 3.9% (approx 4%)/\n",
        "while the not repeated customers are over 96%"
      ],
      "metadata": {
        "id": "Xx8WAJvtYrdO"
      }
    },
    {
      "cell_type": "markdown",
      "source": [
        "##### 3. Will the gained insights help creating a positive business impact?\n",
        "Are there any insights that lead to negative growth? Justify with specific reason."
      ],
      "metadata": {
        "id": "y-Ehk30pYrdP"
      }
    },
    {
      "cell_type": "markdown",
      "source": [
        "We have to focus on the reasons why the repeated customers are soo less and also provide coupon codes or extra benefits or offers to non repeated customers and make their stay comfortable."
      ],
      "metadata": {
        "id": "jLNxxz7MYrdP"
      }
    },
    {
      "cell_type": "markdown",
      "source": [
        "#### **Most Reserved Rooms**"
      ],
      "metadata": {
        "id": "bamQiAODYuh1"
      }
    },
    {
      "cell_type": "code",
      "source": [
        "# Chart - 5 visualization code\n",
        "room_counts = df['reserved_room_type'].value_counts().reset_index()\n",
        "room_counts.columns = ['reserved_room_type', 'count']  # Rename columns\n",
        "\n",
        "# Create bar plot\n",
        "sns.barplot(x='reserved_room_type', y='count', data=room_counts, palette='viridis')\n",
        "plt.title(\"Counts of Reserved Room Types\")\n",
        "plt.xlabel(\"Reserved Room Type\")\n",
        "plt.ylabel(\"Count\")\n",
        "plt.show()"
      ],
      "metadata": {
        "id": "TIJwrbroYuh3"
      },
      "execution_count": null,
      "outputs": []
    },
    {
      "cell_type": "markdown",
      "source": [
        "##### 1. Why did you pick the specific chart?"
      ],
      "metadata": {
        "id": "QHF8YVU7Yuh3"
      }
    },
    {
      "cell_type": "markdown",
      "source": [
        "Bar charts are easy to visualize a large number of variables and examine the size difference."
      ],
      "metadata": {
        "id": "dcxuIMRPYuh3"
      }
    },
    {
      "cell_type": "markdown",
      "source": [
        "##### 2. What is/are the insight(s) found from the chart?"
      ],
      "metadata": {
        "id": "GwzvFGzlYuh3"
      }
    },
    {
      "cell_type": "markdown",
      "source": [
        "As we can see the Room A has the most numnber of reservations compared to other rooms"
      ],
      "metadata": {
        "id": "uyqkiB8YYuh3"
      }
    },
    {
      "cell_type": "markdown",
      "source": [
        "##### 3. Will the gained insights help creating a positive business impact?\n",
        "Are there any insights that lead to negative growth? Justify with specific reason."
      ],
      "metadata": {
        "id": "qYpmQ266Yuh3"
      }
    },
    {
      "cell_type": "markdown",
      "source": [
        "For increasing the reservation of other rooms as well we shall have to opt the conditions and facilites as Room type A to others to have an equal chanes of reservation on other rooms as well."
      ],
      "metadata": {
        "id": "_WtzZ_hCYuh4"
      }
    },
    {
      "cell_type": "markdown",
      "source": [
        "#### ***Market segment booking distribution***"
      ],
      "metadata": {
        "id": "OH-pJp9IphqM"
      }
    },
    {
      "cell_type": "code",
      "source": [
        "# Chart - 6 visualization code\n",
        "segment_counts = df['market_segment'].value_counts().reset_index()\n",
        "segment_counts.columns = ['market_segment', 'count']  # Rename columns\n",
        "\n",
        "# Create bar plot\n",
        "sns.barplot(x='market_segment', y='count', data= segment_counts, palette='viridis')\n",
        "plt.title(\"Market Segment Distribution\")\n",
        "plt.xlabel(\"Market Segment\")\n",
        "plt.ylabel(\"Count\")\n",
        "plt.xticks(rotation=45)\n",
        "plt.show()"
      ],
      "metadata": {
        "id": "kuRf4wtuphqN"
      },
      "execution_count": null,
      "outputs": []
    },
    {
      "cell_type": "markdown",
      "source": [
        "##### 1. Why did you pick the specific chart?"
      ],
      "metadata": {
        "id": "bbFf2-_FphqN"
      }
    },
    {
      "cell_type": "markdown",
      "source": [
        "Bar chart helps us to analyse the diffrence clearly between the different marketing segements"
      ],
      "metadata": {
        "id": "loh7H2nzphqN"
      }
    },
    {
      "cell_type": "markdown",
      "source": [
        "##### 2. What is/are the insight(s) found from the chart?"
      ],
      "metadata": {
        "id": "_ouA3fa0phqN"
      }
    },
    {
      "cell_type": "markdown",
      "source": [
        "We can clearly visualize the online TA has more bookings compared to all of the rest"
      ],
      "metadata": {
        "id": "VECbqPI7phqN"
      }
    },
    {
      "cell_type": "markdown",
      "source": [
        "##### 3. Will the gained insights help creating a positive business impact?\n",
        "Are there any insights that lead to negative growth? Justify with specific reason."
      ],
      "metadata": {
        "id": "Seke61FWphqN"
      }
    },
    {
      "cell_type": "markdown",
      "source": [
        "It has a positive impact as we can focus more on online TA and increase it further as well as can also increase the offline TA/TO , Direct"
      ],
      "metadata": {
        "id": "DW4_bGpfphqN"
      }
    },
    {
      "cell_type": "markdown",
      "source": [
        "#### ***MOnth wise booking***"
      ],
      "metadata": {
        "id": "PIIx-8_IphqN"
      }
    },
    {
      "cell_type": "code",
      "source": [
        "bookings = df[df['is_canceled'] == 'Not Canceled']"
      ],
      "metadata": {
        "id": "t77-YKB0k3Qn"
      },
      "execution_count": null,
      "outputs": []
    },
    {
      "cell_type": "code",
      "source": [
        "# Chart - 7 visualization code\n",
        "x = bookings.groupby('arrival_date_month')['hotel'].count()\n",
        "x = x.sort_values(ascending = False)\n",
        "x.plot(kind = 'bar')\n",
        "plt.show()"
      ],
      "metadata": {
        "id": "lqAIGUfyphqO"
      },
      "execution_count": null,
      "outputs": []
    },
    {
      "cell_type": "markdown",
      "source": [
        "##### 1. Why did you pick the specific chart?"
      ],
      "metadata": {
        "id": "t27r6nlMphqO"
      }
    },
    {
      "cell_type": "markdown",
      "source": [
        "We used bar plot in desending order to visualize number of bookings in every month and also compare them to other months at the same time."
      ],
      "metadata": {
        "id": "iv6ro40sphqO"
      }
    },
    {
      "cell_type": "markdown",
      "source": [
        "##### 2. What is/are the insight(s) found from the chart?"
      ],
      "metadata": {
        "id": "r2jJGEOYphqO"
      }
    },
    {
      "cell_type": "markdown",
      "source": [
        "The above chart shows that **August, July & May** are having the most amount of bookings all over the year."
      ],
      "metadata": {
        "id": "Po6ZPi4hphqO"
      }
    },
    {
      "cell_type": "markdown",
      "source": [
        "##### 3. Will the gained insights help creating a positive business impact?\n",
        "Are there any insights that lead to negative growth? Justify with specific reason."
      ],
      "metadata": {
        "id": "b0JNsNcRphqO"
      }
    },
    {
      "cell_type": "markdown",
      "source": [
        "Yes, From this information we can clearly create strategies for our high booking months and can also increase the revenue by increasing the profit as these months have high bookings"
      ],
      "metadata": {
        "id": "xvSq8iUTphqO"
      }
    },
    {
      "cell_type": "markdown",
      "source": [
        "####  ***Year Distribution***"
      ],
      "metadata": {
        "id": "aX4M9XOkEDSX"
      }
    },
    {
      "cell_type": "code",
      "source": [
        "df.columns"
      ],
      "metadata": {
        "id": "cOlxnGu2EDSb"
      },
      "execution_count": null,
      "outputs": []
    },
    {
      "cell_type": "code",
      "source": [
        "plt.figure(figsize=(10, 6))\n",
        "sns.countplot(x='arrival_date_year', hue='hotel', data=df)\n",
        "\n",
        "plt.xlabel('Year',fontsize = 15)\n",
        "plt.ylabel('Count',fontsize = 12)\n",
        "plt.title('Distribution of bookings in term of Year')\n",
        "plt.legend(title='Hotel', loc='upper right')  # Add legend with 'hotel' as title\n",
        "\n",
        "plt.show()"
      ],
      "metadata": {
        "id": "qCpLbKy7EDSc"
      },
      "execution_count": null,
      "outputs": []
    },
    {
      "cell_type": "markdown",
      "source": [
        "##### 1. Why did you pick the specific chart?"
      ],
      "metadata": {
        "id": "2X5NZYvxEOPg"
      }
    },
    {
      "cell_type": "markdown",
      "source": [
        "Here we can understand the bookings distribution among different years,"
      ],
      "metadata": {
        "id": "2Qe_1vo3EOPg"
      }
    },
    {
      "cell_type": "markdown",
      "source": [
        "##### 2. What is/are the insight(s) found from the chart?"
      ],
      "metadata": {
        "id": "OklOVdHnEOPg"
      }
    },
    {
      "cell_type": "markdown",
      "source": [
        "We can clearly see that in 2016 we have the highest number of bookings in city hotel as well as resort hotels."
      ],
      "metadata": {
        "id": "b2gbCtEFEOPg"
      }
    },
    {
      "cell_type": "markdown",
      "source": [
        "##### 3. Will the gained insights help creating a positive business impact?\n",
        "Are there any insights that lead to negative growth? Justify with specific reason."
      ],
      "metadata": {
        "id": "fpbZnsIhG4pY"
      }
    },
    {
      "cell_type": "markdown",
      "source": [
        "We can examine the key and strategies of having soo many bookings in 2016 and also examine where we failed to apply those key and strategies in 2017 which will have to comeback in and bring up the bookings in 2018."
      ],
      "metadata": {
        "id": "pXgjaHoYG5iQ"
      }
    },
    {
      "cell_type": "markdown",
      "source": [
        "####  ***Agent Distribution***"
      ],
      "metadata": {
        "id": "8w631X8MEf9w"
      }
    },
    {
      "cell_type": "code",
      "source": [
        "df.columns"
      ],
      "metadata": {
        "id": "JxkpkEpzEf9w"
      },
      "execution_count": null,
      "outputs": []
    },
    {
      "cell_type": "code",
      "source": [
        "top_5_agents = df['agent'].value_counts().head(5)\n"
      ],
      "metadata": {
        "id": "sLtV0KocFdWv"
      },
      "execution_count": null,
      "outputs": []
    },
    {
      "cell_type": "code",
      "source": [
        "sns.barplot(x =top_5_agents.index,y = top_5_agents.values,hue=top_5_agents.values,palette ='coolwarm')\n",
        "#Labeling and title the chart and legend\n",
        "plt.xlabel('Agent No.')\n",
        "plt.ylabel('Bookings made by them')\n",
        "plt.legend(title ='Bookings Count')\n",
        "plt.title('Top 5 agents in the term of bookings')\n",
        "plt.show()"
      ],
      "metadata": {
        "id": "rn137p0eEf9w"
      },
      "execution_count": null,
      "outputs": []
    },
    {
      "cell_type": "markdown",
      "source": [
        "##### 1. Why did you pick the specific chart?"
      ],
      "metadata": {
        "id": "c7ZCAN7WEf9w"
      }
    },
    {
      "cell_type": "markdown",
      "source": [
        "Bar chart to check the distribution of number of bookings amoung top 5 agents."
      ],
      "metadata": {
        "id": "MnpTR7oYEf9w"
      }
    },
    {
      "cell_type": "markdown",
      "source": [
        "##### 2. What is/are the insight(s) found from the chart?"
      ],
      "metadata": {
        "id": "TMGMTTH-Ef9x"
      }
    },
    {
      "cell_type": "markdown",
      "source": [
        "We found that the Agent NO 9 has the most amount of bookings."
      ],
      "metadata": {
        "id": "7e1EGqVkEf9x"
      }
    },
    {
      "cell_type": "markdown",
      "source": [
        "##### 3. Will the gained insights help creating a positive business impact?\n",
        "Are there any insights that lead to negative growth? Justify with specific reason."
      ],
      "metadata": {
        "id": "BShRRHxyGSjl"
      }
    },
    {
      "cell_type": "markdown",
      "source": [
        "We can reward the agents according to the amount of bookings they offer, which will motivate them and might get more bookings ,"
      ],
      "metadata": {
        "id": "s7liEhfOGTuY"
      }
    },
    {
      "cell_type": "markdown",
      "source": [
        "#### ***Average Lead Time in countries***"
      ],
      "metadata": {
        "id": "YJ55k-q6phqO"
      }
    },
    {
      "cell_type": "code",
      "source": [
        "# Chart - 9 visualization code\n",
        "lead_time = df.groupby('country')['lead_time'].mean()"
      ],
      "metadata": {
        "id": "B2aS4O1ophqO"
      },
      "execution_count": null,
      "outputs": []
    },
    {
      "cell_type": "code",
      "source": [
        "lead_time = lead_time.sort_values( ascending = False)[:10]"
      ],
      "metadata": {
        "id": "GDyD7GoQrUax"
      },
      "execution_count": null,
      "outputs": []
    },
    {
      "cell_type": "code",
      "source": [
        "lead_time"
      ],
      "metadata": {
        "collapsed": true,
        "id": "sYujJpomrQN7"
      },
      "execution_count": null,
      "outputs": []
    },
    {
      "cell_type": "code",
      "source": [
        "x = lead_time.index\n",
        "y = lead_time.values\n",
        "sns.barplot(x=x, y=y, palette=\"viridis\" )\n",
        "plt.title('Average Lead time across countries', fontsize=16)\n",
        "plt.xlabel('Country', fontsize=12)\n",
        "plt.ylabel('Lead_Time', fontsize=12)\n",
        "plt.xticks(rotation=45)\n",
        "plt.show()"
      ],
      "metadata": {
        "id": "nyADRDlkrfnf"
      },
      "execution_count": null,
      "outputs": []
    },
    {
      "cell_type": "markdown",
      "source": [
        "##### 1. Why did you pick the specific chart?"
      ],
      "metadata": {
        "id": "gCFgpxoyphqP"
      }
    },
    {
      "cell_type": "markdown",
      "source": [
        "Here we can clearly visualize the trend of average lead time taken by different countries."
      ],
      "metadata": {
        "id": "TVxDimi2phqP"
      }
    },
    {
      "cell_type": "markdown",
      "source": [
        "##### 2. What is/are the insight(s) found from the chart?"
      ],
      "metadata": {
        "id": "OVtJsKN_phqQ"
      }
    },
    {
      "cell_type": "markdown",
      "source": [
        "We found the customers from countries like FJI, BEN, LCA have a high lead time and plan their vacation and stay in advance."
      ],
      "metadata": {
        "id": "ngGi97qjphqQ"
      }
    },
    {
      "cell_type": "markdown",
      "source": [
        "##### 3. Will the gained insights help creating a positive business impact?\n",
        "Are there any insights that lead to negative growth? Justify with specific reason."
      ],
      "metadata": {
        "id": "lssrdh5qphqQ"
      }
    },
    {
      "cell_type": "markdown",
      "source": [
        "THese insights can help in marketing prespective as we can showcase or suggest the satys as for early plannings to get the confimed bookings in advance.\n",
        "Also countries with longer lead time are not price sensitive so we can make a decent profits from the countries having a large lead time"
      ],
      "metadata": {
        "id": "tBpY5ekJphqQ"
      }
    },
    {
      "cell_type": "markdown",
      "source": [
        "#### ***Total Revenue distribution***"
      ],
      "metadata": {
        "id": "U2RJ9gkRphqQ"
      }
    },
    {
      "cell_type": "code",
      "source": [
        "# Chart - 10 visualization code\n",
        "x = df['total_revenue']\n",
        "y = df['hotel']\n",
        "sns.barplot(x=x, y=y)\n",
        "plt.title('Total Revenue by Hotel Type')\n",
        "plt.xlabel('Total Revenue')\n",
        "plt.ylabel('Hotel Type')\n",
        "plt.show()"
      ],
      "metadata": {
        "id": "GM7a4YP4phqQ"
      },
      "execution_count": null,
      "outputs": []
    },
    {
      "cell_type": "markdown",
      "source": [
        "##### 1. Why did you pick the specific chart?"
      ],
      "metadata": {
        "id": "1M8mcRywphqQ"
      }
    },
    {
      "cell_type": "markdown",
      "source": [
        "Bar chart can help us to analyse the total revenue across different hotel types."
      ],
      "metadata": {
        "id": "8agQvks0phqQ"
      }
    },
    {
      "cell_type": "markdown",
      "source": [
        "##### 2. What is/are the insight(s) found from the chart?"
      ],
      "metadata": {
        "id": "tgIPom80phqQ"
      }
    },
    {
      "cell_type": "markdown",
      "source": [
        "WE can clearly see that the Resort HOtel has more revenue compared to city hotel."
      ],
      "metadata": {
        "id": "Qp13pnNzphqQ"
      }
    },
    {
      "cell_type": "markdown",
      "source": [
        "##### 3. Will the gained insights help creating a positive business impact?\n",
        "Are there any insights that lead to negative growth? Justify with specific reason."
      ],
      "metadata": {
        "id": "JMzcOPDDphqR"
      }
    },
    {
      "cell_type": "markdown",
      "source": [
        "As we can see the demands are mostly on resort hotels which can help us to gain more bookings by advertising more resort hotel types according to customers search history."
      ],
      "metadata": {
        "id": "R4Ka1PC2phqR"
      }
    },
    {
      "cell_type": "markdown",
      "source": [
        "#### ***ADR distribution***"
      ],
      "metadata": {
        "id": "x-EpHcCOp1ci"
      }
    },
    {
      "cell_type": "code",
      "source": [
        "adr_hotels = df[df['adr'] > 0]"
      ],
      "metadata": {
        "id": "EnoWNjdTzgXp"
      },
      "execution_count": null,
      "outputs": []
    },
    {
      "cell_type": "code",
      "source": [
        "# Chart - 11 visualization code\n",
        "y = adr_hotels.groupby('hotel')['adr'].mean()\n",
        "x = y.sort_values(ascending = False)\n",
        "sns.barplot( y=y, x=x.index, palette=\"coolwarm\")\n",
        "plt.title('Average Daily Rate by Hotel Type')\n",
        "plt.xlabel('Average Daily Rate')\n",
        "plt.ylabel('Hotel Type')\n",
        "plt.show()"
      ],
      "metadata": {
        "id": "mAQTIvtqp1cj"
      },
      "execution_count": null,
      "outputs": []
    },
    {
      "cell_type": "markdown",
      "source": [
        "##### 1. Why did you pick the specific chart?"
      ],
      "metadata": {
        "id": "X_VqEhTip1ck"
      }
    },
    {
      "cell_type": "markdown",
      "source": [
        "To specify the average ADR for both hotels"
      ],
      "metadata": {
        "id": "-vsMzt_np1ck"
      }
    },
    {
      "cell_type": "markdown",
      "source": [
        "##### 2. What is/are the insight(s) found from the chart?"
      ],
      "metadata": {
        "id": "8zGJKyg5p1ck"
      }
    },
    {
      "cell_type": "markdown",
      "source": [
        "As we can see the average ADR of City hotel is higher than Resort hotel, so the profit and revenue will be higher for city hotel"
      ],
      "metadata": {
        "id": "ZYdMsrqVp1ck"
      }
    },
    {
      "cell_type": "markdown",
      "source": [
        "##### 3. Will the gained insights help creating a positive business impact?\n",
        "Are there any insights that lead to negative growth? Justify with specific reason."
      ],
      "metadata": {
        "id": "PVzmfK_Ep1ck"
      }
    },
    {
      "cell_type": "markdown",
      "source": [
        "Here for more profit we can focus on the city hotels and make higher profits compared to resort hotels."
      ],
      "metadata": {
        "id": "druuKYZpp1ck"
      }
    },
    {
      "cell_type": "markdown",
      "source": [
        "#### ***MEal Preferences***"
      ],
      "metadata": {
        "id": "n3dbpmDWp1ck"
      }
    },
    {
      "cell_type": "code",
      "source": [
        "# Chart - 12 visualization code\n",
        "hotel_wise_meal = df.groupby(['hotel', 'meal'])['meal'].count().unstack()\n",
        "hotel_wise_meal.plot(kind ='bar', figsize = (12,8))\n",
        "hotel_wise_meal"
      ],
      "metadata": {
        "id": "bwevp1tKp1ck"
      },
      "execution_count": null,
      "outputs": []
    },
    {
      "cell_type": "markdown",
      "source": [
        "##### 1. Why did you pick the specific chart?"
      ],
      "metadata": {
        "id": "ylSl6qgtp1ck"
      }
    },
    {
      "cell_type": "markdown",
      "source": [
        "Bar plot to check the specific meal preference of the customers."
      ],
      "metadata": {
        "id": "m2xqNkiQp1ck"
      }
    },
    {
      "cell_type": "markdown",
      "source": [
        "##### 2. What is/are the insight(s) found from the chart?"
      ],
      "metadata": {
        "id": "ZWILFDl5p1ck"
      }
    },
    {
      "cell_type": "markdown",
      "source": [
        "We can see,** BB (Bed & breakfast**) meal is most prefered by guests in both the hotels, followed by **SC (Self Catering)** in city hotels"
      ],
      "metadata": {
        "id": "x-lUsV2mp1ck"
      }
    },
    {
      "cell_type": "markdown",
      "source": [
        "##### 3. Will the gained insights help creating a positive business impact?\n",
        "Are there any insights that lead to negative growth? Justify with specific reason."
      ],
      "metadata": {
        "id": "M7G43BXep1ck"
      }
    },
    {
      "cell_type": "markdown",
      "source": [
        "Hotel can provide more delisious dishes in these meal to get customer repeat & attaract new customer by their cusines and taste,"
      ],
      "metadata": {
        "id": "5wwDJXsLp1cl"
      }
    },
    {
      "cell_type": "markdown",
      "source": [
        "#### ***Cancellation Analysis by hotel***"
      ],
      "metadata": {
        "id": "EM7whBJCYoAo"
      }
    },
    {
      "cell_type": "code",
      "source": [
        "# Filter for 'Resort Hotel' first, then group and count\n",
        "resort_counts = df[df['hotel'] == 'Resort Hotel'].groupby('is_canceled').size().reset_index(name='count')\n",
        "\n",
        "print(resort_counts)\n"
      ],
      "metadata": {
        "collapsed": true,
        "id": "3aH2FgvAoAEB"
      },
      "execution_count": null,
      "outputs": []
    },
    {
      "cell_type": "code",
      "source": [
        "# Filter for 'CIty Hotel' first, then group and count\n",
        "City_counts = df[df['hotel'] == 'City Hotel'].groupby('is_canceled').size().reset_index(name='count')\n",
        "\n",
        "print(City_counts)\n"
      ],
      "metadata": {
        "collapsed": true,
        "id": "kTCuzIFSpR7I"
      },
      "execution_count": null,
      "outputs": []
    },
    {
      "cell_type": "code",
      "source": [
        "# Chart - 3 visualization code\n",
        "sns.barplot(x='is_canceled', y='count', data=resort_counts,color='red', label='Resort Hotel')\n",
        "sns.barplot(x='is_canceled', y='count', data=City_counts,color='orange', label='City Hotel')\n",
        "plt.title(\"Cancellation Analysis by hotel\")\n",
        "plt.xlabel(\"Resort_counts\")\n",
        "plt.ylabel(\"City_counts\")\n",
        "plt.show()"
      ],
      "metadata": {
        "id": "t6GMdE67YoAp"
      },
      "execution_count": null,
      "outputs": []
    },
    {
      "cell_type": "markdown",
      "source": [
        "##### 1. Why did you pick the specific chart?"
      ],
      "metadata": {
        "id": "fge-S5ZAYoAp"
      }
    },
    {
      "cell_type": "markdown",
      "source": [
        "Answer Here."
      ],
      "metadata": {
        "id": "5dBItgRVYoAp"
      }
    },
    {
      "cell_type": "markdown",
      "source": [
        "##### 2. What is/are the insight(s) found from the chart?"
      ],
      "metadata": {
        "id": "85gYPyotYoAp"
      }
    },
    {
      "cell_type": "markdown",
      "source": [
        "Answer Here"
      ],
      "metadata": {
        "id": "4jstXR6OYoAp"
      }
    },
    {
      "cell_type": "markdown",
      "source": [
        "##### 3. Will the gained insights help creating a positive business impact?\n",
        "Are there any insights that lead to negative growth? Justify with specific reason."
      ],
      "metadata": {
        "id": "RoGjAbkUYoAp"
      }
    },
    {
      "cell_type": "markdown",
      "source": [
        "Answer Here"
      ],
      "metadata": {
        "id": "zfJ8IqMcYoAp"
      }
    },
    {
      "cell_type": "markdown",
      "source": [
        "####  ***Correlation Heatmap***"
      ],
      "metadata": {
        "id": "NC_X3p0fY2L0"
      }
    },
    {
      "cell_type": "code",
      "source": [
        "df.columns"
      ],
      "metadata": {
        "id": "uvLAM1YK4Hj2"
      },
      "execution_count": null,
      "outputs": []
    },
    {
      "cell_type": "code",
      "source": [
        "# Correlation Heatmap visualization code\n",
        "corr_df = df[['lead_time','previous_cancellations', 'previous_bookings_not_canceled', 'total_members',\n",
        "                    'booking_changes', 'days_in_waiting_list', 'adr', 'required_car_parking_spaces', 'total_of_special_requests']].corr()\n",
        "f, ax = plt.subplots(figsize=(8, 8))\n",
        "sns.heatmap(corr_df, annot = True, fmt='.2f', annot_kws={'size': 10},  vmax=1, square=True, cmap=\"YlGnBu\")"
      ],
      "metadata": {
        "id": "xyC9zolEZNRQ"
      },
      "execution_count": null,
      "outputs": []
    },
    {
      "cell_type": "markdown",
      "source": [
        "##### 1. Why did you pick the specific chart?"
      ],
      "metadata": {
        "id": "UV0SzAkaZNRQ"
      }
    },
    {
      "cell_type": "markdown",
      "source": [
        "Here we can understand the coorelation between two diffrent variables and columns easily."
      ],
      "metadata": {
        "id": "DVPuT8LYZNRQ"
      }
    },
    {
      "cell_type": "markdown",
      "source": [
        "##### 2. What is/are the insight(s) found from the chart?"
      ],
      "metadata": {
        "id": "YPEH6qLeZNRQ"
      }
    },
    {
      "cell_type": "markdown",
      "source": [
        "Highest corelation value between axis is 39% positive & lowest corelation value between the axis is -9% negative."
      ],
      "metadata": {
        "id": "bfSqtnDqZNRR"
      }
    },
    {
      "cell_type": "markdown",
      "source": [
        "##### 1. Why did you pick the specific chart?"
      ],
      "metadata": {
        "id": "EXh0U9oCveiU"
      }
    },
    {
      "cell_type": "markdown",
      "source": [
        "Answer Here."
      ],
      "metadata": {
        "id": "eMmPjTByveiU"
      }
    },
    {
      "cell_type": "markdown",
      "source": [
        "##### 2. What is/are the insight(s) found from the chart?"
      ],
      "metadata": {
        "id": "22aHeOlLveiV"
      }
    },
    {
      "cell_type": "markdown",
      "source": [
        "Answer Here"
      ],
      "metadata": {
        "id": "uPQ8RGwHveiV"
      }
    },
    {
      "cell_type": "markdown",
      "source": [
        "## **5. Solution to Business Objective**"
      ],
      "metadata": {
        "id": "JcMwzZxoAimU"
      }
    },
    {
      "cell_type": "markdown",
      "source": [
        "#### What do you suggest the client to achieve Business Objective ?\n",
        "Explain Briefly."
      ],
      "metadata": {
        "id": "8G2x9gOozGDZ"
      }
    },
    {
      "cell_type": "markdown",
      "source": [
        "**Booking Percentage by Hotel Type:** Identifies popular hotel types, guiding targeted marketing strategies and inventory management.\n",
        "\n",
        "**Cancellation Analysis:** Uncovers trends in cancellations to mitigate losses through targeted communication and flexible policies.\n",
        "\n",
        "**Repeating Guests:** Highlights loyal customer behavior to enhance retention through personalized experiences and loyalty programs.\n",
        "\n",
        "**Most Reserved Rooms:** Informs inventory management by revealing high-demand room types for better pricing and allocation decisions.\n",
        "\n",
        "**Market Segment Booking Distribution:** Optimizes marketing strategies by analyzing the customer segments driving bookings.\n",
        "\n",
        "**Month-wise Booking Trends:** Identifies seasonal booking patterns to prepare staffing and promotions for fluctuating demand.\n",
        "\n",
        "**Top 10 Countries by Bookings:** Pinpoints key markets for targeted marketing strategies to increase market share and revenue.\n",
        "\n",
        "**Average Lead Time in Countries:** Helps optimize pricing and promotions by understanding customer booking behaviors across regions.\n",
        "\n",
        "**Total Revenue Distribution:** Analyzes financial performance across hotel types to guide profitability-enhancing strategies.\n",
        "\n",
        "**ADR Distribution:** Informs dynamic pricing models to maximize revenue based on demand fluctuations and customer profiles.\n",
        "\n",
        "**Meal Preferences:** Provides insights for tailoring dining offerings to enhance guest satisfaction and boost food revenue.\n",
        "\n",
        "**Correlation Heatmap:** Reveals relationships between key variables to implement targeted strategies for improved performance."
      ],
      "metadata": {
        "id": "pASKb0qOza21"
      }
    },
    {
      "cell_type": "markdown",
      "source": [
        "# **Conclusion**"
      ],
      "metadata": {
        "id": "gCX9965dhzqZ"
      }
    },
    {
      "cell_type": "markdown",
      "source": [
        "* This project conducted a comprehensive exploratory data analysis of the hotel booking dataset from Booking.com, uncovering valuable insights for strategic decision-making.\n",
        "\n",
        "* Key trends and patterns were identified, highlighting implications for optimizing hotel operations and enhancing customer satisfaction.\n",
        "\n",
        "* Certain hotel types attracted a higher percentage of bookings, suggesting targeted marketing efforts to maximize occupancy rates.\n",
        "\n",
        "* Cancellation trends revealed critical periods that require focused strategies to minimize losses, emphasizing improved customer engagement and flexible booking policies.\n",
        "\n",
        "* The analysis of repeating guests underscored the importance of fostering customer loyalty, which can be enhanced through personalized services and tailored loyalty programs.\n",
        "\n",
        "* Insights into market segments and top countries by bookings enabled targeted marketing strategies to increase revenue from high-potential markets.\n",
        "\n",
        "* Understanding average lead times by country allows for the optimization of pricing and promotional strategies, catering to varying customer preferences across regions.\n",
        "\n",
        "* Findings on room preferences and total revenue distribution guide operational decisions, such as inventory management and dynamic pricing strategies, maximizing profitability.\n",
        "\n",
        "* Insights into meal preferences and special requests help hotels tailor their offerings, enhancing guest satisfaction and driving additional revenue from food and beverage services.\n",
        "\n",
        "* Continuous monitoring of booking trends and customer feedback will be essential for adapting to changing market conditions.\n",
        "\n",
        "* Implementing machine learning algorithms could refine predictive analytics, enhancing the ability to forecast demand and optimize pricing strategies.\n",
        "\n",
        "* Overall, the insights generated from this analysis support Booking.com in making data-driven decisions, positioning the company to remain competitive in the dynamic hospitality landscape.\n",
        "\n",
        "* By leveraging these findings, Booking.com can enhance operational efficiency, improve customer experiences, and ultimately drive profitability."
      ],
      "metadata": {
        "id": "Fjb1IsQkh3yE"
      }
    },
    {
      "cell_type": "markdown",
      "source": [
        "### ***Hurrah! You have successfully completed your EDA Capstone Project !!!***"
      ],
      "metadata": {
        "id": "gIfDvo9L0UH2"
      }
    }
  ]
}